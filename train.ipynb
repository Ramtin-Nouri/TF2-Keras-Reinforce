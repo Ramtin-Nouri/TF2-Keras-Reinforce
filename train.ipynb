{
 "cells": [
  {
   "cell_type": "code",
   "execution_count": null,
   "metadata": {},
   "outputs": [],
   "source": [
    "import tensorflow as tf\n",
    "import gym\n",
    "\n",
    "\n",
    "import os,cv2, datetime,numpy as np\n",
    "from tensorflow.keras import callbacks\n",
    "import dataManager\n",
    "from nets import simpleDense as net"
   ]
  },
  {
   "cell_type": "code",
   "execution_count": null,
   "metadata": {},
   "outputs": [],
   "source": [
    "nn = net.NeuralNetwork()\n",
    "model,_ = nn.getModel((80*80),(1))"
   ]
  },
  {
   "cell_type": "code",
   "execution_count": null,
   "metadata": {},
   "outputs": [],
   "source": [
    "# gym initialization\n",
    "env = dataManager.SingleGym(\"Pong-v0\",True)\n",
    "observation = env.reset()\n",
    "\n",
    "# Macros\n",
    "UP_ACTION = 2\n",
    "DOWN_ACTION = 3"
   ]
  },
  {
   "cell_type": "code",
   "execution_count": null,
   "metadata": {},
   "outputs": [],
   "source": [
    "today = datetime.datetime.today()\n",
    "time = \"%s%04d-%02d-%02d-%02d-%02d-%02d/\" % (nn.getModelFolderPath(),today.year,today.month,today.day,today.hour,today.minute,today.second)\n",
    "os.makedirs(\"%s/figs\"%(time))\n",
    "\n",
    "with open('%s/architecture.txt'%(time),'w') as fh:\n",
    "    model.summary(print_fn=lambda x: fh.write(x + '\\n'))\n",
    "    \n",
    "csvLogger = callbacks.CSVLogger(time+\"log.csv\", separator=',', append=False)\n",
    "tensorboardCallback = callbacks.TensorBoard(log_dir=time)#TODO: load test data in advance and use histogram_freq=1 here\n",
    "# Creates a file writer for the log directory.\n",
    "file_writer = tf.summary.create_file_writer(time)\n",
    "file_writer.set_as_default()\n",
    "\n",
    "\n",
    "callbacks =  [callbacks.ModelCheckpoint(time+\"{epoch:04d}.hdf5\",\n",
    "monitor='val_loss',verbose=1, save_best_only=False, save_weights_only=False, mode='auto', period=1),\n",
    "csvLogger,tensorboardCallback]"
   ]
  },
  {
   "cell_type": "code",
   "execution_count": null,
   "metadata": {},
   "outputs": [],
   "source": [
    "# Hyperparameters\n",
    "gamma = 0.99\n",
    "\n",
    "# initialization of variables used in the main loop\n",
    "x_train, y_train, rewards = [],[],[]\n",
    "reward_sum = 0\n",
    "episode = 0\n",
    "\n",
    "\n",
    "while True:\n",
    "    \n",
    "    # forward the policy network and sample action according to the proba distribution\n",
    "    upProbability = model.predict(np.expand_dims(observation, axis=1).T)\n",
    "    if np.random.uniform() < upProbability:\n",
    "        action = UP_ACTION\n",
    "    else:\n",
    "        action = DOWN_ACTION\n",
    "    y = 1 if action == 2 else 0 # 0 and 1 are our labels\n",
    "\n",
    "    # log the input and label to train later\n",
    "    x_train.append(observation)\n",
    "    y_train.append(y)\n",
    "\n",
    "    # do one step in our environment\n",
    "    observation, reward, done, info = env.step(action)\n",
    "    rewards.append(reward)\n",
    "    reward_sum += reward\n",
    "    running_reward = 0\n",
    "    \n",
    "    # end of an episode\n",
    "    if done:\n",
    "        print('At the end of episode', episode, 'the total reward was :', reward_sum)\n",
    "        \n",
    "        # training\n",
    "        model.fit(x=np.vstack(x_train), y=np.vstack(y_train), verbose=1, callbacks=callbacks, sample_weight=dataManager.calculateRewards(rewards, gamma),initial_epoch = episode)\n",
    "        \n",
    "        #Log Running Reward\n",
    "        tf.summary.scalar(\"Running Reward\", running_reward,step=episode)\n",
    "        \n",
    "        \n",
    "        # increment episode number\n",
    "        episode += 1\n",
    "        \n",
    "        # Reinitialization\n",
    "        x_train, y_train, rewards = [],[],[]\n",
    "        observation = env.reset()\n",
    "        reward_sum = 0\n",
    "        prev_input = None"
   ]
  },
  {
   "cell_type": "code",
   "execution_count": null,
   "metadata": {},
   "outputs": [],
   "source": []
  }
 ],
 "metadata": {
  "kernelspec": {
   "display_name": "Python 3",
   "language": "python",
   "name": "python3"
  },
  "language_info": {
   "codemirror_mode": {
    "name": "ipython",
    "version": 3
   },
   "file_extension": ".py",
   "mimetype": "text/x-python",
   "name": "python",
   "nbconvert_exporter": "python",
   "pygments_lexer": "ipython3",
   "version": "3.6.5"
  }
 },
 "nbformat": 4,
 "nbformat_minor": 4
}
